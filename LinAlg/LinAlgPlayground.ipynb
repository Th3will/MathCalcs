{
  "cells": [
    {
      "cell_type": "markdown",
      "metadata": {
        "id": "bD3Xl2388wQo"
      },
      "source": [
        "Numpy does not return matrix in fraction form"
      ]
    },
    {
      "cell_type": "code",
      "execution_count": 2,
      "metadata": {
        "id": "-yYce0M1UnFD"
      },
      "outputs": [],
      "source": [
        "import numpy as np\n"
      ]
    },
    {
      "cell_type": "markdown",
      "metadata": {
        "id": "6MtQN6r88I_r"
      },
      "source": [
        "Initialize a matrix in numpy"
      ]
    },
    {
      "cell_type": "code",
      "execution_count": null,
      "metadata": {
        "id": "mgAAGS-3UprF"
      },
      "outputs": [],
      "source": [
        "a = np.matrix('-2,3;-5,3')"
      ]
    },
    {
      "cell_type": "code",
      "execution_count": null,
      "metadata": {
        "colab": {
          "base_uri": "https://localhost:8080/"
        },
        "id": "aBe0Z8rvUwOI",
        "outputId": "bfe7ec0d-2529-4fbb-fcdc-b80f472cd0e4"
      },
      "outputs": [
        {
          "name": "stdout",
          "output_type": "stream",
          "text": [
            "[[ 6 -5 -4]\n",
            " [-6 -5 -2]]\n"
          ]
        }
      ],
      "source": [
        "print(a)"
      ]
    },
    {
      "cell_type": "code",
      "execution_count": null,
      "metadata": {
        "id": "Vd3XgGVhUx0W"
      },
      "outputs": [],
      "source": [
        "b = np.matrix('8,-8;-5,2')"
      ]
    },
    {
      "cell_type": "code",
      "execution_count": null,
      "metadata": {
        "colab": {
          "base_uri": "https://localhost:8080/"
        },
        "id": "6pVIx_I-U3NU",
        "outputId": "74191b81-fbaa-4b6f-cdc0-86e56ee69e54"
      },
      "outputs": [
        {
          "name": "stdout",
          "output_type": "stream",
          "text": [
            "[[ 5 -4]\n",
            " [-8  6]\n",
            " [-8 -3]]\n"
          ]
        }
      ],
      "source": [
        "print(b)"
      ]
    },
    {
      "cell_type": "markdown",
      "metadata": {
        "id": "XlDc1qbU8dxS"
      },
      "source": [
        "Matrix Multiply in numpy"
      ]
    },
    {
      "cell_type": "code",
      "execution_count": null,
      "metadata": {
        "colab": {
          "base_uri": "https://localhost:8080/"
        },
        "id": "lFp28-8tU4T2",
        "outputId": "a279a5ef-4200-4ba9-c3cb-4cfcec2ffd5e"
      },
      "outputs": [
        {
          "data": {
            "text/plain": [
              "matrix([[-31,  22],\n",
              "        [-55,  46]])"
            ]
          },
          "execution_count": 4,
          "metadata": {},
          "output_type": "execute_result"
        }
      ],
      "source": [
        "np.matmul(a,b)"
      ]
    },
    {
      "cell_type": "code",
      "execution_count": null,
      "metadata": {
        "colab": {
          "base_uri": "https://localhost:8080/"
        },
        "id": "D3W5Op4HVGYp",
        "outputId": "2dae7266-c374-4942-9bd6-6a048b19f315"
      },
      "outputs": [
        {
          "data": {
            "text/plain": [
              "matrix([[ 54,  -5, -12],\n",
              "        [-84,  10,  20],\n",
              "        [-30,  55,  38]])"
            ]
          },
          "execution_count": 7,
          "metadata": {},
          "output_type": "execute_result"
        }
      ],
      "source": [
        "np.matmul(b,a)"
      ]
    },
    {
      "cell_type": "code",
      "execution_count": null,
      "metadata": {
        "colab": {
          "base_uri": "https://localhost:8080/"
        },
        "id": "54OkCE5cVMNH",
        "outputId": "d65ad1f1-1e68-4777-da09-f711788d2271"
      },
      "outputs": [
        {
          "name": "stdout",
          "output_type": "stream",
          "text": [
            "[[4 5]\n",
            " [0 4]]\n"
          ]
        }
      ],
      "source": [
        "print(a)"
      ]
    },
    {
      "cell_type": "code",
      "execution_count": null,
      "metadata": {
        "id": "JJdMgw_rXAQQ"
      },
      "outputs": [],
      "source": [
        "a2 = np.matmul(a,a) "
      ]
    },
    {
      "cell_type": "code",
      "execution_count": null,
      "metadata": {
        "id": "TugjEgM3XGsT"
      },
      "outputs": [],
      "source": [
        "a3 = np.matmul(a2,a)"
      ]
    },
    {
      "cell_type": "code",
      "execution_count": null,
      "metadata": {
        "colab": {
          "base_uri": "https://localhost:8080/"
        },
        "id": "smi4aF6CXI84",
        "outputId": "1822058d-2f80-4286-e2ef-f536a4f2bc6f"
      },
      "outputs": [
        {
          "name": "stdout",
          "output_type": "stream",
          "text": [
            "[[ 64 240]\n",
            " [  0  64]]\n"
          ]
        }
      ],
      "source": [
        "print(a3)"
      ]
    },
    {
      "cell_type": "code",
      "execution_count": null,
      "metadata": {
        "id": "eRo60cNQXKG9"
      },
      "outputs": [],
      "source": [
        "a = np.matrix('1,-2,1;-1,1,-1;1,-2,0')"
      ]
    },
    {
      "cell_type": "code",
      "execution_count": null,
      "metadata": {
        "id": "kFAVNluNGAjp"
      },
      "outputs": [],
      "source": [
        "b = np.matrix('2,2,1;1,1,0;-1,-2,-1')"
      ]
    },
    {
      "cell_type": "code",
      "execution_count": null,
      "metadata": {
        "colab": {
          "base_uri": "https://localhost:8080/"
        },
        "id": "0FZA6XeiGHk9",
        "outputId": "f1bac7d1-ab57-441e-a569-b5be3a06f40d"
      },
      "outputs": [
        {
          "name": "stdout",
          "output_type": "stream",
          "text": [
            "[[-1 -2  0]\n",
            " [ 0  1  0]\n",
            " [ 0  0  1]]\n"
          ]
        }
      ],
      "source": [
        "print(np.matmul(a,b))"
      ]
    },
    {
      "cell_type": "markdown",
      "metadata": {
        "id": "FlPZgnSV8l09"
      },
      "source": [
        "Inverse of Matrix in NP"
      ]
    },
    {
      "cell_type": "code",
      "execution_count": null,
      "metadata": {
        "id": "cZzNxVv9GKZF"
      },
      "outputs": [],
      "source": [
        "ainv = np.linalg.inv(a)"
      ]
    },
    {
      "cell_type": "code",
      "execution_count": null,
      "metadata": {
        "colab": {
          "base_uri": "https://localhost:8080/"
        },
        "id": "5EPrITIAGxa3",
        "outputId": "0445e2d6-ac7d-45dd-d57a-b03437ed53de"
      },
      "outputs": [
        {
          "name": "stdout",
          "output_type": "stream",
          "text": [
            "[[-2. -2.  1.]\n",
            " [-1. -1. -0.]\n",
            " [ 1. -0. -1.]]\n"
          ]
        }
      ],
      "source": [
        "print(ainv)"
      ]
    },
    {
      "cell_type": "code",
      "execution_count": null,
      "metadata": {
        "id": "wBbv_dtrG5Ei"
      },
      "outputs": [],
      "source": [
        "a = np.matrix('-2,-3,2;-6,-7,3;4,10,-7')"
      ]
    },
    {
      "cell_type": "code",
      "execution_count": null,
      "metadata": {
        "colab": {
          "base_uri": "https://localhost:8080/"
        },
        "id": "QURKvTcNQQ4N",
        "outputId": "0741e94e-e25c-4035-b381-cd21438c3a98"
      },
      "outputs": [
        {
          "name": "stdout",
          "output_type": "stream",
          "text": [
            "[[-1.58333333  0.08333333 -0.41666667]\n",
            " [ 2.5        -0.5         0.5       ]\n",
            " [ 2.66666667 -0.66666667  0.33333333]]\n"
          ]
        }
      ],
      "source": [
        "print(np.linalg.inv(a))"
      ]
    },
    {
      "cell_type": "markdown",
      "metadata": {
        "id": "IB9ITUoH9kiB"
      },
      "source": [
        "Sympy import & Matrix initialization"
      ]
    },
    {
      "cell_type": "code",
      "execution_count": 2,
      "metadata": {
        "id": "aDwtUK27yJn1"
      },
      "outputs": [],
      "source": [
        "from sympy import * \n",
        "M = Matrix([[0,-3,-2, 7],[2,-1,0,-3],[-2,0,1,2]])"
      ]
    },
    {
      "cell_type": "code",
      "execution_count": 24,
      "metadata": {
        "colab": {
          "base_uri": "https://localhost:8080/",
          "height": 78
        },
        "id": "BG6EFrDhhqVA",
        "outputId": "ba0d040c-c970-4fc2-a4df-4da832eb8475"
      },
      "outputs": [
        {
          "data": {
            "text/latex": [
              "$\\displaystyle \\left[\\begin{matrix}-9 & 7\\\\-7 & -9\\end{matrix}\\right]$"
            ],
            "text/plain": [
              "Matrix([\n",
              "[-9,  7],\n",
              "[-7, -9]])"
            ]
          },
          "execution_count": 24,
          "metadata": {},
          "output_type": "execute_result"
        }
      ],
      "source": [
        "Matrix([[-9,7],[-7,-9]])"
      ]
    },
    {
      "cell_type": "code",
      "execution_count": 40,
      "metadata": {},
      "outputs": [
        {
          "data": {
            "text/latex": [
              "$\\displaystyle \\left[\\begin{matrix}594 & 1358\\\\-1358 & 594\\end{matrix}\\right]$"
            ],
            "text/plain": [
              "Matrix([\n",
              "[  594, 1358],\n",
              "[-1358,  594]])"
            ]
          },
          "execution_count": 40,
          "metadata": {},
          "output_type": "execute_result"
        }
      ],
      "source": [
        "M**3\n"
      ]
    },
    {
      "cell_type": "markdown",
      "metadata": {
        "id": "iQcZ5JNV9pId"
      },
      "source": [
        "Reduced Row Echelon Form\n"
      ]
    },
    {
      "cell_type": "code",
      "execution_count": 9,
      "metadata": {
        "colab": {
          "base_uri": "https://localhost:8080/"
        },
        "id": "adhDayv7xZ47",
        "outputId": "52591160-c380-4ab8-e221-c925addbffb0"
      },
      "outputs": [
        {
          "name": "stdout",
          "output_type": "stream",
          "text": [
            "Matrix : (Matrix([\n",
            "[1, 0],\n",
            "[0, 1]]), (0, 1)) \n"
          ]
        }
      ],
      "source": [
        "M_rref = M.rref()\n",
        "print(\"Matrix : {} \".format(M.rref()))\n"
      ]
    },
    {
      "cell_type": "code",
      "execution_count": 10,
      "metadata": {
        "id": "jj_CMvg9yfLm"
      },
      "outputs": [],
      "source": [
        "a = Matrix([[3,2],[-2,-1]])"
      ]
    },
    {
      "cell_type": "code",
      "execution_count": 11,
      "metadata": {
        "id": "At0e6ISwD4Ry"
      },
      "outputs": [],
      "source": [
        "a1 = Matrix([[0,-1],[1,-3]])"
      ]
    },
    {
      "cell_type": "code",
      "execution_count": 12,
      "metadata": {
        "colab": {
          "base_uri": "https://localhost:8080/",
          "height": 58
        },
        "id": "ec5D1gMQEK42",
        "outputId": "0a438651-a8a5-412f-8ebd-4e98e4405cb1"
      },
      "outputs": [
        {
          "data": {
            "text/latex": [
              "$\\displaystyle \\left[\\begin{matrix}-2 & -3\\\\-7 & -11\\end{matrix}\\right]$"
            ],
            "text/plain": [
              "Matrix([\n",
              "[-2,  -3],\n",
              "[-7, -11]])"
            ]
          },
          "execution_count": 12,
          "metadata": {},
          "output_type": "execute_result"
        }
      ],
      "source": [
        "a1*a**-1"
      ]
    },
    {
      "cell_type": "code",
      "execution_count": 13,
      "metadata": {
        "id": "gGyE0M1k_C-c"
      },
      "outputs": [],
      "source": [
        "b = Matrix([[2,2,-1],[1,0,1],[1,1,0]])"
      ]
    },
    {
      "cell_type": "markdown",
      "metadata": {
        "id": "UyLAhxlNxCrB"
      },
      "source": [
        "Anti-Diagonalization"
      ]
    },
    {
      "cell_type": "code",
      "execution_count": 14,
      "metadata": {
        "id": "MHNWoCaJw5M8"
      },
      "outputs": [],
      "source": [
        "P = Matrix([[6,9],[0,3]])"
      ]
    },
    {
      "cell_type": "code",
      "execution_count": 15,
      "metadata": {
        "id": "xVwyC4dGw8vw"
      },
      "outputs": [],
      "source": [
        "D = Matrix([[0,0],[0,1]])"
      ]
    },
    {
      "cell_type": "code",
      "execution_count": 16,
      "metadata": {
        "colab": {
          "base_uri": "https://localhost:8080/",
          "height": 58
        },
        "id": "nvhmKSwTxBoZ",
        "outputId": "1ed4c8b6-c0f7-49b6-d7a7-1d05f72af0f7"
      },
      "outputs": [
        {
          "data": {
            "text/latex": [
              "$\\displaystyle \\left[\\begin{matrix}0 & 3\\\\0 & 1\\end{matrix}\\right]$"
            ],
            "text/plain": [
              "Matrix([\n",
              "[0, 3],\n",
              "[0, 1]])"
            ]
          },
          "execution_count": 16,
          "metadata": {},
          "output_type": "execute_result"
        }
      ],
      "source": [
        "P*D*(P**-1)"
      ]
    },
    {
      "cell_type": "code",
      "execution_count": 17,
      "metadata": {
        "colab": {
          "base_uri": "https://localhost:8080/",
          "height": 78
        },
        "id": "SOhFSO_bzk4I",
        "outputId": "d99523f5-3895-47cb-914e-271f93874431"
      },
      "outputs": [
        {
          "data": {
            "text/latex": [
              "$\\displaystyle \\left[\\begin{matrix}-9 & 7\\\\-7 & -9\\end{matrix}\\right]$"
            ],
            "text/plain": [
              "Matrix([\n",
              "[-9,  7],\n",
              "[-7, -9]])"
            ]
          },
          "execution_count": 17,
          "metadata": {},
          "output_type": "execute_result"
        }
      ],
      "source": [
        "M"
      ]
    },
    {
      "cell_type": "code",
      "execution_count": 18,
      "metadata": {
        "colab": {
          "base_uri": "https://localhost:8080/"
        },
        "id": "2DLJf_Ja0AEX",
        "outputId": "b3cb5930-12cd-4070-bdcb-24f7ecf6e4e8"
      },
      "outputs": [
        {
          "data": {
            "text/plain": [
              "(Matrix([\n",
              " [1, 0],\n",
              " [0, 1]]),\n",
              " (0, 1))"
            ]
          },
          "execution_count": 18,
          "metadata": {},
          "output_type": "execute_result"
        }
      ],
      "source": [
        "M.rref()"
      ]
    },
    {
      "cell_type": "markdown",
      "metadata": {
        "id": "PSFgSQG-_eva"
      },
      "source": [
        "Inverse Matrix"
      ]
    },
    {
      "cell_type": "code",
      "execution_count": 19,
      "metadata": {
        "colab": {
          "base_uri": "https://localhost:8080/",
          "height": 78
        },
        "id": "quRskdMZ0Q4w",
        "outputId": "47bd715a-670c-4da0-aa54-42be6423aa80"
      },
      "outputs": [
        {
          "ename": "ShapeError",
          "evalue": "Matrix size mismatch: (3, 3) * (2, 2).",
          "output_type": "error",
          "traceback": [
            "\u001b[1;31m---------------------------------------------------------------------------\u001b[0m",
            "\u001b[1;31mShapeError\u001b[0m                                Traceback (most recent call last)",
            "Cell \u001b[1;32mIn [19], line 1\u001b[0m\n\u001b[1;32m----> 1\u001b[0m \u001b[43m(\u001b[49m\u001b[43mb\u001b[49m\u001b[38;5;241;43m*\u001b[39;49m\u001b[38;5;241;43m*\u001b[39;49m\u001b[38;5;241;43m-\u001b[39;49m\u001b[38;5;241;43m1\u001b[39;49m\u001b[43m)\u001b[49m\u001b[38;5;241;43m*\u001b[39;49m\u001b[43ma\u001b[49m\n",
            "File \u001b[1;32mc:\\Users\\William\\AppData\\Local\\Programs\\Python\\Python310\\lib\\site-packages\\sympy\\core\\decorators.py:106\u001b[0m, in \u001b[0;36mcall_highest_priority.<locals>.priority_decorator.<locals>.binary_op_wrapper\u001b[1;34m(self, other)\u001b[0m\n\u001b[0;32m    104\u001b[0m         \u001b[39mif\u001b[39;00m f \u001b[39mis\u001b[39;00m \u001b[39mnot\u001b[39;00m \u001b[39mNone\u001b[39;00m:\n\u001b[0;32m    105\u001b[0m             \u001b[39mreturn\u001b[39;00m f(\u001b[39mself\u001b[39m)\n\u001b[1;32m--> 106\u001b[0m \u001b[39mreturn\u001b[39;00m func(\u001b[39mself\u001b[39;49m, other)\n",
            "File \u001b[1;32mc:\\Users\\William\\AppData\\Local\\Programs\\Python\\Python310\\lib\\site-packages\\sympy\\matrices\\common.py:2771\u001b[0m, in \u001b[0;36mMatrixArithmetic.__mul__\u001b[1;34m(self, other)\u001b[0m\n\u001b[0;32m   2742\u001b[0m \u001b[39m@call_highest_priority\u001b[39m(\u001b[39m'\u001b[39m\u001b[39m__rmul__\u001b[39m\u001b[39m'\u001b[39m)\n\u001b[0;32m   2743\u001b[0m \u001b[39mdef\u001b[39;00m \u001b[39m__mul__\u001b[39m(\u001b[39mself\u001b[39m, other):\n\u001b[0;32m   2744\u001b[0m     \u001b[39m\"\"\"Return self*other where other is either a scalar or a matrix\u001b[39;00m\n\u001b[0;32m   2745\u001b[0m \u001b[39m    of compatible dimensions.\u001b[39;00m\n\u001b[0;32m   2746\u001b[0m \n\u001b[1;32m   (...)\u001b[0m\n\u001b[0;32m   2768\u001b[0m \u001b[39m    matrix_multiply_elementwise\u001b[39;00m\n\u001b[0;32m   2769\u001b[0m \u001b[39m    \"\"\"\u001b[39;00m\n\u001b[1;32m-> 2771\u001b[0m     \u001b[39mreturn\u001b[39;00m \u001b[39mself\u001b[39;49m\u001b[39m.\u001b[39;49mmultiply(other)\n",
            "File \u001b[1;32mc:\\Users\\William\\AppData\\Local\\Programs\\Python\\Python310\\lib\\site-packages\\sympy\\matrices\\common.py:2793\u001b[0m, in \u001b[0;36mMatrixArithmetic.multiply\u001b[1;34m(self, other, dotprodsimp)\u001b[0m\n\u001b[0;32m   2789\u001b[0m \u001b[39mif\u001b[39;00m (\u001b[39mhasattr\u001b[39m(other, \u001b[39m'\u001b[39m\u001b[39mshape\u001b[39m\u001b[39m'\u001b[39m) \u001b[39mand\u001b[39;00m \u001b[39mlen\u001b[39m(other\u001b[39m.\u001b[39mshape) \u001b[39m==\u001b[39m \u001b[39m2\u001b[39m \u001b[39mand\u001b[39;00m\n\u001b[0;32m   2790\u001b[0m     (\u001b[39mgetattr\u001b[39m(other, \u001b[39m'\u001b[39m\u001b[39mis_Matrix\u001b[39m\u001b[39m'\u001b[39m, \u001b[39mTrue\u001b[39;00m) \u001b[39mor\u001b[39;00m\n\u001b[0;32m   2791\u001b[0m      \u001b[39mgetattr\u001b[39m(other, \u001b[39m'\u001b[39m\u001b[39mis_MatrixLike\u001b[39m\u001b[39m'\u001b[39m, \u001b[39mTrue\u001b[39;00m))):\n\u001b[0;32m   2792\u001b[0m     \u001b[39mif\u001b[39;00m \u001b[39mself\u001b[39m\u001b[39m.\u001b[39mshape[\u001b[39m1\u001b[39m] \u001b[39m!=\u001b[39m other\u001b[39m.\u001b[39mshape[\u001b[39m0\u001b[39m]:\n\u001b[1;32m-> 2793\u001b[0m         \u001b[39mraise\u001b[39;00m ShapeError(\u001b[39m\"\u001b[39m\u001b[39mMatrix size mismatch: \u001b[39m\u001b[39m%s\u001b[39;00m\u001b[39m * \u001b[39m\u001b[39m%s\u001b[39;00m\u001b[39m.\u001b[39m\u001b[39m\"\u001b[39m \u001b[39m%\u001b[39m (\n\u001b[0;32m   2794\u001b[0m             \u001b[39mself\u001b[39m\u001b[39m.\u001b[39mshape, other\u001b[39m.\u001b[39mshape))\n\u001b[0;32m   2796\u001b[0m \u001b[39m# honest SymPy matrices defer to their class's routine\u001b[39;00m\n\u001b[0;32m   2797\u001b[0m \u001b[39mif\u001b[39;00m \u001b[39mgetattr\u001b[39m(other, \u001b[39m'\u001b[39m\u001b[39mis_Matrix\u001b[39m\u001b[39m'\u001b[39m, \u001b[39mFalse\u001b[39;00m):\n",
            "\u001b[1;31mShapeError\u001b[0m: Matrix size mismatch: (3, 3) * (2, 2)."
          ]
        }
      ],
      "source": [
        "(b**-1)*a"
      ]
    },
    {
      "cell_type": "code",
      "execution_count": null,
      "metadata": {
        "colab": {
          "base_uri": "https://localhost:8080/",
          "height": 78
        },
        "id": "Owc4pp7pjBxZ",
        "outputId": "47646fbf-9c91-4cfc-a5d0-40f752879d2f"
      },
      "outputs": [
        {
          "data": {
            "text/latex": [
              "$\\displaystyle \\left[\\begin{matrix}3 & -4 & 2\\\\-4 & 5 & -2\\\\-4 & 4 & -1\\end{matrix}\\right]$"
            ],
            "text/plain": [
              "⎡3   -4  2 ⎤\n",
              "⎢          ⎥\n",
              "⎢-4  5   -2⎥\n",
              "⎢          ⎥\n",
              "⎣-4  4   -1⎦"
            ]
          },
          "execution_count": 47,
          "metadata": {},
          "output_type": "execute_result"
        }
      ],
      "source": [
        "b.inv()*a"
      ]
    },
    {
      "cell_type": "markdown",
      "metadata": {
        "id": "EtvKVqPTz_9C"
      },
      "source": [
        "EigenStuff"
      ]
    },
    {
      "cell_type": "code",
      "execution_count": null,
      "metadata": {
        "id": "wLPV7LBW0BeU"
      },
      "outputs": [],
      "source": [
        "E = Matrix([[7,-8],[6,8]])"
      ]
    },
    {
      "cell_type": "code",
      "execution_count": null,
      "metadata": {
        "colab": {
          "base_uri": "https://localhost:8080/",
          "height": 58
        },
        "id": "JcaGYKWABVlJ",
        "outputId": "2427b1bc-95f9-4dc1-b588-fb7f8a143c4a"
      },
      "outputs": [
        {
          "data": {
            "text/latex": [
              "$\\displaystyle \\left[\\begin{matrix}7 & -8\\\\6 & 8\\end{matrix}\\right]$"
            ],
            "text/plain": [
              "Matrix([\n",
              "[7, -8],\n",
              "[6,  8]])"
            ]
          },
          "execution_count": 3,
          "metadata": {},
          "output_type": "execute_result"
        }
      ],
      "source": [
        "E"
      ]
    },
    {
      "cell_type": "markdown",
      "metadata": {
        "id": "tukqK32m3JXB"
      },
      "source": [
        "[eigenvalue, multiplicity, {eigenspace}]"
      ]
    },
    {
      "cell_type": "code",
      "execution_count": null,
      "metadata": {
        "colab": {
          "base_uri": "https://localhost:8080/"
        },
        "id": "8hlVrjcM0L44",
        "outputId": "7ffc94fc-ca19-436c-acb2-7bbec76c8f2b"
      },
      "outputs": [
        {
          "data": {
            "text/plain": [
              "[(15/2 - sqrt(191)*I/2,\n",
              "  1,\n",
              "  [Matrix([\n",
              "   [-1/12 - sqrt(191)*I/12],\n",
              "   [                     1]])]),\n",
              " (15/2 + sqrt(191)*I/2,\n",
              "  1,\n",
              "  [Matrix([\n",
              "   [-1/12 + sqrt(191)*I/12],\n",
              "   [                     1]])])]"
            ]
          },
          "execution_count": 5,
          "metadata": {},
          "output_type": "execute_result"
        }
      ],
      "source": [
        "E.eigenvects()"
      ]
    },
    {
      "cell_type": "markdown",
      "metadata": {},
      "source": [
        "# Orthogonal Projection"
      ]
    },
    {
      "cell_type": "code",
      "execution_count": 18,
      "metadata": {},
      "outputs": [],
      "source": [
        "y = Matrix([[0,-1,0,0]])"
      ]
    },
    {
      "cell_type": "code",
      "execution_count": 19,
      "metadata": {},
      "outputs": [],
      "source": [
        "u1 = Matrix([[-1,1,-1,1]])\n",
        "u2 = Matrix([[-1,1,1,-1]])\n",
        "u3 = Matrix([[1,1,1,1]])"
      ]
    },
    {
      "cell_type": "code",
      "execution_count": 20,
      "metadata": {},
      "outputs": [],
      "source": [
        "c_1 = (y.dot(u1))/((u1).dot(u1))\n",
        "c_2 = (y.dot(u2))/((u2).dot(u2))\n",
        "c_3 = (y.dot(u3))/((u3).dot(u3))\n",
        "\n"
      ]
    },
    {
      "cell_type": "code",
      "execution_count": 21,
      "metadata": {},
      "outputs": [
        {
          "data": {
            "text/latex": [
              "$\\displaystyle \\left[\\begin{matrix}\\frac{1}{4} & - \\frac{3}{4} & - \\frac{1}{4} & - \\frac{1}{4}\\end{matrix}\\right]$"
            ],
            "text/plain": [
              "Matrix([[1/4, -3/4, -1/4, -1/4]])"
            ]
          },
          "execution_count": 21,
          "metadata": {},
          "output_type": "execute_result"
        }
      ],
      "source": [
        "c_1*u1 + c_2*u2 + c_3*u3"
      ]
    },
    {
      "cell_type": "code",
      "execution_count": 16,
      "metadata": {},
      "outputs": [
        {
          "name": "stdout",
          "output_type": "stream",
          "text": [
            "0\n"
          ]
        }
      ],
      "source": [
        "print(u1.dot(u3))"
      ]
    },
    {
      "cell_type": "code",
      "execution_count": null,
      "metadata": {},
      "outputs": [],
      "source": []
    }
  ],
  "metadata": {
    "colab": {
      "provenance": []
    },
    "kernelspec": {
      "display_name": "Python 3.10.7 64-bit",
      "language": "python",
      "name": "python3"
    },
    "language_info": {
      "codemirror_mode": {
        "name": "ipython",
        "version": 3
      },
      "file_extension": ".py",
      "mimetype": "text/x-python",
      "name": "python",
      "nbconvert_exporter": "python",
      "pygments_lexer": "ipython3",
      "version": "3.10.7"
    },
    "vscode": {
      "interpreter": {
        "hash": "15f7fb6bfa40f6d98bec429272306fda6b1744d745c4cccbf28593f1f78abeba"
      }
    }
  },
  "nbformat": 4,
  "nbformat_minor": 0
}
